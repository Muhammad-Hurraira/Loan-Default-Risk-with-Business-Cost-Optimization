{
  "nbformat": 4,
  "nbformat_minor": 0,
  "metadata": {
    "colab": {
      "provenance": []
    },
    "kernelspec": {
      "name": "python3",
      "display_name": "Python 3"
    },
    "language_info": {
      "name": "python"
    }
  },
  "cells": [
    {
      "cell_type": "code",
      "source": [
        "!pip install catboost"
      ],
      "metadata": {
        "colab": {
          "base_uri": "https://localhost:8080/"
        },
        "id": "F-ItofYjslg9",
        "outputId": "d1070741-0c77-448d-9f4d-22c25da9e50d"
      },
      "execution_count": 3,
      "outputs": [
        {
          "output_type": "stream",
          "name": "stdout",
          "text": [
            "Collecting catboost\n",
            "  Downloading catboost-1.2.8-cp312-cp312-manylinux2014_x86_64.whl.metadata (1.2 kB)\n",
            "Requirement already satisfied: graphviz in /usr/local/lib/python3.12/dist-packages (from catboost) (0.21)\n",
            "Requirement already satisfied: matplotlib in /usr/local/lib/python3.12/dist-packages (from catboost) (3.10.0)\n",
            "Requirement already satisfied: numpy<3.0,>=1.16.0 in /usr/local/lib/python3.12/dist-packages (from catboost) (2.0.2)\n",
            "Requirement already satisfied: pandas>=0.24 in /usr/local/lib/python3.12/dist-packages (from catboost) (2.2.2)\n",
            "Requirement already satisfied: scipy in /usr/local/lib/python3.12/dist-packages (from catboost) (1.16.1)\n",
            "Requirement already satisfied: plotly in /usr/local/lib/python3.12/dist-packages (from catboost) (5.24.1)\n",
            "Requirement already satisfied: six in /usr/local/lib/python3.12/dist-packages (from catboost) (1.17.0)\n",
            "Requirement already satisfied: python-dateutil>=2.8.2 in /usr/local/lib/python3.12/dist-packages (from pandas>=0.24->catboost) (2.9.0.post0)\n",
            "Requirement already satisfied: pytz>=2020.1 in /usr/local/lib/python3.12/dist-packages (from pandas>=0.24->catboost) (2025.2)\n",
            "Requirement already satisfied: tzdata>=2022.7 in /usr/local/lib/python3.12/dist-packages (from pandas>=0.24->catboost) (2025.2)\n",
            "Requirement already satisfied: contourpy>=1.0.1 in /usr/local/lib/python3.12/dist-packages (from matplotlib->catboost) (1.3.3)\n",
            "Requirement already satisfied: cycler>=0.10 in /usr/local/lib/python3.12/dist-packages (from matplotlib->catboost) (0.12.1)\n",
            "Requirement already satisfied: fonttools>=4.22.0 in /usr/local/lib/python3.12/dist-packages (from matplotlib->catboost) (4.59.1)\n",
            "Requirement already satisfied: kiwisolver>=1.3.1 in /usr/local/lib/python3.12/dist-packages (from matplotlib->catboost) (1.4.9)\n",
            "Requirement already satisfied: packaging>=20.0 in /usr/local/lib/python3.12/dist-packages (from matplotlib->catboost) (25.0)\n",
            "Requirement already satisfied: pillow>=8 in /usr/local/lib/python3.12/dist-packages (from matplotlib->catboost) (11.3.0)\n",
            "Requirement already satisfied: pyparsing>=2.3.1 in /usr/local/lib/python3.12/dist-packages (from matplotlib->catboost) (3.2.3)\n",
            "Requirement already satisfied: tenacity>=6.2.0 in /usr/local/lib/python3.12/dist-packages (from plotly->catboost) (8.5.0)\n",
            "Downloading catboost-1.2.8-cp312-cp312-manylinux2014_x86_64.whl (99.2 MB)\n",
            "\u001b[2K   \u001b[90m━━━━━━━━━━━━━━━━━━━━━━━━━━━━━━━━━━━━━━━━\u001b[0m \u001b[32m99.2/99.2 MB\u001b[0m \u001b[31m8.2 MB/s\u001b[0m eta \u001b[36m0:00:00\u001b[0m\n",
            "\u001b[?25hInstalling collected packages: catboost\n",
            "Successfully installed catboost-1.2.8\n"
          ]
        }
      ]
    },
    {
      "cell_type": "code",
      "execution_count": 1,
      "metadata": {
        "id": "M0euZr0RrvjZ"
      },
      "outputs": [],
      "source": [
        "import pandas as pd\n",
        "from sklearn.model_selection import train_test_split\n",
        "from sklearn.preprocessing import StandardScaler\n",
        "from sklearn.linear_model import LogisticRegression\n",
        "from sklearn.metrics import confusion_matrix, roc_curve\n",
        "import numpy as np\n",
        "import catboost as cb"
      ]
    },
    {
      "cell_type": "code",
      "source": [
        "from sklearn.metrics import confusion_matrix, accuracy_score"
      ],
      "metadata": {
        "id": "e9w_Ee-dxmxS"
      },
      "execution_count": 20,
      "outputs": []
    },
    {
      "cell_type": "code",
      "source": [
        "# Load the dataset\n",
        "try:\n",
        "    df = pd.read_csv('home_credit_synthetic_positive.csv')\n",
        "except FileNotFoundError:\n",
        "    print(\"Error: 'home_credit_synthetic_positive.csv' not found. Please ensure the file is in the 'MultipleFiles' directory.\")\n",
        "    exit()"
      ],
      "metadata": {
        "id": "HK6emP0Vsivb"
      },
      "execution_count": 2,
      "outputs": []
    },
    {
      "cell_type": "code",
      "source": [
        "# Drop irrelevant columns\n",
        "df = df.drop(['SK_ID_CURR'], axis=1)"
      ],
      "metadata": {
        "id": "b9kWVql5tB2w"
      },
      "execution_count": 3,
      "outputs": []
    },
    {
      "cell_type": "code",
      "source": [
        "# Identify categorical columns\n",
        "categorical_cols = df.select_dtypes(include=['object']).columns\n",
        "print(f\"Categorical columns identified: {list(categorical_cols)}\")"
      ],
      "metadata": {
        "colab": {
          "base_uri": "https://localhost:8080/"
        },
        "id": "m0BOdfUotCzN",
        "outputId": "3a8dace4-939f-4e6d-97ab-a8d23fd25b85"
      },
      "execution_count": 4,
      "outputs": [
        {
          "output_type": "stream",
          "name": "stdout",
          "text": [
            "Categorical columns identified: ['NAME_FAMILY_STATUS', 'NAME_EDUCATION_TYPE', 'NAME_INCOME_TYPE']\n"
          ]
        }
      ]
    },
    {
      "cell_type": "code",
      "source": [
        "# Apply one-hot encoding\n",
        "df = pd.get_dummies(df, columns=categorical_cols, drop_first=True)"
      ],
      "metadata": {
        "id": "SXPjIt1RtHDo"
      },
      "execution_count": 5,
      "outputs": []
    },
    {
      "cell_type": "code",
      "source": [
        "# Handle missing values (if any remain, fill with median for numerical columns)\n",
        "# For simplicity, we'll fill any remaining NaNs with the median of their respective columns.\n",
        "# In a real-world scenario, more sophisticated imputation might be needed.\n",
        "for col in df.columns:\n",
        "    if df[col].isnull().any():\n",
        "        if pd.api.types.is_numeric_dtype(df[col]):\n",
        "            median_val = df[col].median()\n",
        "            df[col] = df[col].fillna(median_val)\n",
        "            print(f\"Filled missing values in column '{col}' with median: {median_val}\")\n",
        "        else:\n",
        "            # For any remaining non-numeric NaNs after one-hot encoding, which shouldn't happen with drop_first=True\n",
        "            # but as a safeguard, fill with mode or a placeholder.\n",
        "            mode_val = df[col].mode()[0]\n",
        "            df[col] = df[col].fillna(mode_val)\n",
        "            print(f\"Filled missing values in non-numeric column '{col}' with mode: {mode_val}\")\n"
      ],
      "metadata": {
        "id": "237XU-0FtLvj"
      },
      "execution_count": 6,
      "outputs": []
    },
    {
      "cell_type": "code",
      "source": [
        " #Define features (X) and target (y)\n",
        "X = df.drop('TARGET', axis=1)\n",
        "y = df['TARGET']"
      ],
      "metadata": {
        "id": "5WjqKRudtXRj"
      },
      "execution_count": 7,
      "outputs": []
    },
    {
      "cell_type": "code",
      "source": [
        "# Split the dataset into training and testing sets\n",
        "X_train, X_test, y_train, y_test = train_test_split(X, y, test_size=0.3, random_state=42, stratify=y)\n",
        "print(f\"Dataset split into training (X_train shape: {X_train.shape}) and testing (X_test shape: {X_test.shape}) sets.\")\n"
      ],
      "metadata": {
        "colab": {
          "base_uri": "https://localhost:8080/"
        },
        "id": "RPOdBrKwtej3",
        "outputId": "1367ed3c-37b1-4a04-d8cf-4ecd1715f881"
      },
      "execution_count": 8,
      "outputs": [
        {
          "output_type": "stream",
          "name": "stdout",
          "text": [
            "Dataset split into training (X_train shape: (1400, 20)) and testing (X_test shape: (600, 20)) sets.\n"
          ]
        }
      ]
    },
    {
      "cell_type": "code",
      "source": [
        "# Scale numerical features\n",
        "scaler = StandardScaler()\n",
        "X_train_scaled = scaler.fit_transform(X_train)\n",
        "X_test_scaled = scaler.transform(X_test)\n",
        "print(\"Numerical features scaled.\")"
      ],
      "metadata": {
        "colab": {
          "base_uri": "https://localhost:8080/"
        },
        "id": "jrqBfbe8tjV8",
        "outputId": "2f07a3e6-ecf1-4888-8225-7a8f1dfb1457"
      },
      "execution_count": 9,
      "outputs": [
        {
          "output_type": "stream",
          "name": "stdout",
          "text": [
            "Numerical features scaled.\n"
          ]
        }
      ]
    },
    {
      "cell_type": "code",
      "source": [
        " #Convert scaled arrays back to DataFrames, preserving column names\n",
        "X_train_scaled = pd.DataFrame(X_train_scaled, columns=X_train.columns, index=X_train.index)\n",
        "X_test_scaled = pd.DataFrame(X_test_scaled, columns=X_test.columns, index=X_test.index)\n"
      ],
      "metadata": {
        "id": "7RrGSIvItnhd"
      },
      "execution_count": 10,
      "outputs": []
    },
    {
      "cell_type": "code",
      "source": [
        "# Logistic Regression\n",
        "log_reg_model = LogisticRegression(random_state=42, solver='liblinear', class_weight='balanced')\n",
        "log_reg_model.fit(X_train_scaled, y_train)\n",
        "print(\"Logistic Regression model trained.\")"
      ],
      "metadata": {
        "colab": {
          "base_uri": "https://localhost:8080/"
        },
        "id": "u0TBSjx-tu40",
        "outputId": "648ca6cf-05f2-478e-8280-e0bc804b6b59"
      },
      "execution_count": 11,
      "outputs": [
        {
          "output_type": "stream",
          "name": "stdout",
          "text": [
            "Logistic Regression model trained.\n"
          ]
        }
      ]
    },
    {
      "cell_type": "code",
      "source": [
        "# CatBoost Classifier\n",
        "cat_features_indices = [X.columns.get_loc(col) for col in categorical_cols if col in X.columns]\n",
        "cat_model = cb.CatBoostClassifier(\n",
        "    iterations=100,\n",
        "    random_seed=42,\n",
        "    verbose=0,\n",
        "    early_stopping_rounds=10,\n",
        "    eval_metric='F1',\n",
        "    class_weights=[1, (len(y_train[y_train == 0]) / len(y_train[y_train == 1]))]  # Handle class imbalance\n",
        ")\n",
        "cat_model.fit(X_train, y_train, eval_set=(X_test, y_test), early_stopping_rounds=10)\n",
        "print(\"CatBoost Classifier model trained.\")\n"
      ],
      "metadata": {
        "colab": {
          "base_uri": "https://localhost:8080/"
        },
        "id": "Spb5GoMnwQkX",
        "outputId": "d13f0e26-4793-42ab-faf5-8ec9a21328c8"
      },
      "execution_count": 12,
      "outputs": [
        {
          "output_type": "stream",
          "name": "stdout",
          "text": [
            "CatBoost Classifier model trained.\n"
          ]
        }
      ]
    },
    {
      "cell_type": "code",
      "source": [
        "# --- Define Business Cost Values ---\n",
        "# Cost of False Positive (FP): Loan approved but defaults\n",
        "avg_credit_fp = df['AMT_CREDIT'].mean() * 0.5  # Assuming 50% of credit is lost on default\n",
        "COST_FP = avg_credit_fp\n",
        "print(f\"\\nCost of False Positive (FP): {COST_FP:.2f} (e.g., 50% of average credit amount)\")\n"
      ],
      "metadata": {
        "colab": {
          "base_uri": "https://localhost:8080/"
        },
        "id": "UmugkNQFw9Lq",
        "outputId": "ffc4ef5e-4ac4-4806-e7f3-281df0842fdd"
      },
      "execution_count": 13,
      "outputs": [
        {
          "output_type": "stream",
          "name": "stdout",
          "text": [
            "\n",
            "Cost of False Positive (FP): 372575.43 (e.g., 50% of average credit amount)\n"
          ]
        }
      ]
    },
    {
      "cell_type": "code",
      "source": [
        "# Cost of False Negative (FN): Loan rejected but would not default\n",
        "avg_credit_fn = df['AMT_CREDIT'].mean() * 0.1  # Assuming 10% potential profit\n",
        "COST_FN = avg_credit_fn\n",
        "print(f\"Cost of False Negative (FN): {COST_FN:.2f} (e.g., 10% of average credit amount as lost profit)\")\n"
      ],
      "metadata": {
        "colab": {
          "base_uri": "https://localhost:8080/"
        },
        "id": "S5OtlViUxECk",
        "outputId": "a24944de-58c4-4364-ff4c-9c4c71a89e95"
      },
      "execution_count": 14,
      "outputs": [
        {
          "output_type": "stream",
          "name": "stdout",
          "text": [
            "Cost of False Negative (FN): 74515.09 (e.g., 10% of average credit amount as lost profit)\n"
          ]
        }
      ]
    },
    {
      "cell_type": "code",
      "source": [
        "# Get probabilities for the positive class (default)\n",
        "y_pred_proba_lr = log_reg_model.predict_proba(X_test_scaled)[:, 1]"
      ],
      "metadata": {
        "id": "UZwKLU5axGLG"
      },
      "execution_count": 15,
      "outputs": []
    },
    {
      "cell_type": "code",
      "source": [
        "# Calculate costs for various thresholds\n",
        "thresholds = np.linspace(0, 1, 100)\n",
        "costs = []\n",
        "for t in thresholds:\n",
        "    y_pred_lr = (y_pred_proba_lr >= t).astype(int)\n",
        "    tn, fp, fn, tp = confusion_matrix(y_test, y_pred_lr).ravel()\n",
        "    total_cost = (fp * COST_FP) + (fn * COST_FN)\n",
        "    costs.append(total_cost)"
      ],
      "metadata": {
        "id": "0V6SQ7CRxNmV"
      },
      "execution_count": 16,
      "outputs": []
    },
    {
      "cell_type": "code",
      "source": [
        "# Find the threshold that minimizes the total cost\n",
        "optimal_threshold_lr = thresholds[np.argmin(costs)]\n",
        "min_cost_lr = np.min(costs)\n",
        "print(f\"Optimal Threshold for Logistic Regression: {optimal_threshold_lr:.4f}\")\n",
        "print(f\"Minimum Total Business Cost for Logistic Regression: {min_cost_lr:.2f}\")"
      ],
      "metadata": {
        "colab": {
          "base_uri": "https://localhost:8080/"
        },
        "id": "DOqUT1ZCxTDD",
        "outputId": "04562b7d-b829-470d-9d39-519088f3b415"
      },
      "execution_count": 18,
      "outputs": [
        {
          "output_type": "stream",
          "name": "stdout",
          "text": [
            "Optimal Threshold for Logistic Regression: 0.6566\n",
            "Minimum Total Business Cost for Logistic Regression: 14083351.37\n"
          ]
        }
      ]
    },
    {
      "cell_type": "code",
      "source": [
        "# Evaluate Logistic Regression with optimal threshold\n",
        "y_pred_optimal_lr = (y_pred_proba_lr >= optimal_threshold_lr).astype(int)\n",
        "tn_lr, fp_lr, fn_lr, tp_lr = confusion_matrix(y_test, y_pred_optimal_lr).ravel()\n",
        "accuracy_lr = accuracy_score(y_test, y_pred_optimal_lr)\n",
        "print(\"\\nLogistic Regression Performance with Optimal Threshold:\")\n",
        "print(f\"Accuracy: {accuracy_lr:.4f}\")\n",
        "print(f\"True Negatives (TN): {tn_lr}\")\n",
        "print(f\"False Positives (FP): {fp_lr}\")\n",
        "print(f\"False Negatives (FN): {fn_lr}\")\n",
        "print(f\"True Positives (TP): {tp_lr}\")\n",
        "print(f\"Total Cost: {(fp_lr * COST_FP) + (fn_lr * COST_FN):.2f}\")\n",
        "print(\"\\nOptimizing decision threshold for CatBoost Classifier...\")"
      ],
      "metadata": {
        "colab": {
          "base_uri": "https://localhost:8080/"
        },
        "id": "n_xg6k7CxWMq",
        "outputId": "822525b1-2d98-4819-c17e-322ae557c3a6"
      },
      "execution_count": 21,
      "outputs": [
        {
          "output_type": "stream",
          "name": "stdout",
          "text": [
            "\n",
            "Logistic Regression Performance with Optimal Threshold:\n",
            "Accuracy: 0.6850\n",
            "True Negatives (TN): 409\n",
            "False Positives (FP): 0\n",
            "False Negatives (FN): 189\n",
            "True Positives (TP): 2\n",
            "Total Cost: 14083351.37\n",
            "\n",
            "Optimizing decision threshold for CatBoost Classifier...\n"
          ]
        }
      ]
    },
    {
      "cell_type": "code",
      "source": [
        "# Get probabilities for the positive class (default)\n",
        "y_pred_proba_cat = cat_model.predict_proba(X_test)[:, 1]"
      ],
      "metadata": {
        "id": "Zxv2KUkjxe9D"
      },
      "execution_count": 22,
      "outputs": []
    },
    {
      "cell_type": "code",
      "source": [
        "# Calculate costs for various thresholds\n",
        "costs_cat = []\n",
        "for t in thresholds:\n",
        "    y_pred_cat = (y_pred_proba_cat >= t).astype(int)\n",
        "    tn, fp, fn, tp = confusion_matrix(y_test, y_pred_cat).ravel()\n",
        "    total_cost = (fp * COST_FP) + (fn * COST_FN)\n",
        "    costs_cat.append(total_cost)"
      ],
      "metadata": {
        "id": "pwwszeLpx33o"
      },
      "execution_count": 23,
      "outputs": []
    },
    {
      "cell_type": "code",
      "source": [
        "# Find the threshold that minimizes the total cost\n",
        "optimal_threshold_cat = thresholds[np.argmin(costs_cat)]\n",
        "min_cost_cat = np.min(costs_cat)\n",
        "print(f\"Optimal Threshold for CatBoost Classifier: {optimal_threshold_cat:.4f}\")\n",
        "print(f\"Minimum Total Business Cost for CatBoost Classifier: {min_cost_cat:.2f}\")"
      ],
      "metadata": {
        "colab": {
          "base_uri": "https://localhost:8080/"
        },
        "id": "FD4mYFCGyckl",
        "outputId": "d703ea7e-8bed-476d-e4cb-ea655fdf47cb"
      },
      "execution_count": 24,
      "outputs": [
        {
          "output_type": "stream",
          "name": "stdout",
          "text": [
            "Optimal Threshold for CatBoost Classifier: 0.5556\n",
            "Minimum Total Business Cost for CatBoost Classifier: 14232381.54\n"
          ]
        }
      ]
    },
    {
      "cell_type": "code",
      "source": [
        "# Evaluate CatBoost with optimal threshold\n",
        "y_pred_optimal_cat = (y_pred_proba_cat >= optimal_threshold_cat).astype(int)\n",
        "tn_cat, fp_cat, fn_cat, tp_cat = confusion_matrix(y_test, y_pred_optimal_cat).ravel()\n",
        "accuracy_cat = accuracy_score(y_test, y_pred_optimal_cat)\n",
        "print(\"\\nCatBoost Classifier Performance with Optimal Threshold:\")\n",
        "print(f\"Accuracy: {accuracy_cat:.4f}\")\n",
        "print(f\"True Negatives (TN): {tn_cat}\")\n",
        "print(f\"False Positives (FP): {fp_cat}\")\n",
        "print(f\"False Negatives (FN): {fn_cat}\")\n",
        "print(f\"True Positives (TP): {tp_cat}\")\n",
        "print(f\"Total Cost: {(fp_cat * COST_FP) + (fn_cat * COST_FN):.2f}\")\n",
        "print(\"\\n--- Summary ---\")\n",
        "print(f\"Logistic Regression Min Cost: {min_cost_lr:.2f} at threshold {optimal_threshold_lr:.4f} with accuracy {accuracy_lr:.4f}\")\n",
        "print(f\"CatBoost Classifier Min Cost: {min_cost_cat:.2f} at threshold {optimal_threshold_cat:.4f} with accuracy {accuracy_cat:.4f}\")\n",
        "if min_cost_lr < min_cost_cat:\n",
        "    print(\"\\nLogistic Regression model with its optimal threshold results in lower total business cost.\")\n",
        "else:\n",
        "    print(\"\\nCatBoost Classifier model with its optimal threshold results in lower total business cost.\")\n"
      ],
      "metadata": {
        "colab": {
          "base_uri": "https://localhost:8080/"
        },
        "id": "7-Q4Nt4Pygem",
        "outputId": "0d4e216c-06bc-41c4-a867-44fa80206523"
      },
      "execution_count": 25,
      "outputs": [
        {
          "output_type": "stream",
          "name": "stdout",
          "text": [
            "\n",
            "CatBoost Classifier Performance with Optimal Threshold:\n",
            "Accuracy: 0.6817\n",
            "True Negatives (TN): 409\n",
            "False Positives (FP): 0\n",
            "False Negatives (FN): 191\n",
            "True Positives (TP): 0\n",
            "Total Cost: 14232381.54\n",
            "\n",
            "--- Summary ---\n",
            "Logistic Regression Min Cost: 14083351.37 at threshold 0.6566 with accuracy 0.6850\n",
            "CatBoost Classifier Min Cost: 14232381.54 at threshold 0.5556 with accuracy 0.6817\n",
            "\n",
            "Logistic Regression model with its optimal threshold results in lower total business cost.\n"
          ]
        }
      ]
    }
  ]
}